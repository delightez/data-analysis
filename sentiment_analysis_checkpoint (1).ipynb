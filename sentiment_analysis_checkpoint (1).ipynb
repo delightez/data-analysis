{
  "cells": [
    {
      "cell_type": "code",
      "execution_count": 2,
      "id": "b484c000",
      "metadata": {
        "id": "b484c000"
      },
      "outputs": [],
      "source": [
        "import numpy as np\n",
        "import pandas as pd"
      ]
    },
    {
      "cell_type": "code",
      "execution_count": 3,
      "id": "a740d5b8",
      "metadata": {
        "id": "a740d5b8"
      },
      "outputs": [],
      "source": [
        "data=pd.read_csv(r\"C:\\Users\\Badmen\\Desktop\\sentiment-analysis-app-main\\movie.csv\")"
      ]
    },
    {
      "cell_type": "code",
      "execution_count": 4,
      "id": "5f739be5",
      "metadata": {
        "colab": {
          "base_uri": "https://localhost:8080/",
          "height": 206
        },
        "id": "5f739be5",
        "outputId": "c0ff201a-8494-43af-ea08-e86fefb26618"
      },
      "outputs": [
        {
          "data": {
            "text/html": [
              "<div>\n",
              "<style scoped>\n",
              "    .dataframe tbody tr th:only-of-type {\n",
              "        vertical-align: middle;\n",
              "    }\n",
              "\n",
              "    .dataframe tbody tr th {\n",
              "        vertical-align: top;\n",
              "    }\n",
              "\n",
              "    .dataframe thead th {\n",
              "        text-align: right;\n",
              "    }\n",
              "</style>\n",
              "<table border=\"1\" class=\"dataframe\">\n",
              "  <thead>\n",
              "    <tr style=\"text-align: right;\">\n",
              "      <th></th>\n",
              "      <th>text</th>\n",
              "      <th>label</th>\n",
              "    </tr>\n",
              "  </thead>\n",
              "  <tbody>\n",
              "    <tr>\n",
              "      <th>0</th>\n",
              "      <td>I grew up (b. 1965) watching and loving the Th...</td>\n",
              "      <td>0</td>\n",
              "    </tr>\n",
              "    <tr>\n",
              "      <th>1</th>\n",
              "      <td>When I put this movie in my DVD player, and sa...</td>\n",
              "      <td>0</td>\n",
              "    </tr>\n",
              "    <tr>\n",
              "      <th>2</th>\n",
              "      <td>Why do people who do not know what a particula...</td>\n",
              "      <td>0</td>\n",
              "    </tr>\n",
              "    <tr>\n",
              "      <th>3</th>\n",
              "      <td>Even though I have great interest in Biblical ...</td>\n",
              "      <td>0</td>\n",
              "    </tr>\n",
              "    <tr>\n",
              "      <th>4</th>\n",
              "      <td>Im a die hard Dads Army fan and nothing will e...</td>\n",
              "      <td>1</td>\n",
              "    </tr>\n",
              "  </tbody>\n",
              "</table>\n",
              "</div>"
            ],
            "text/plain": [
              "                                                text  label\n",
              "0  I grew up (b. 1965) watching and loving the Th...      0\n",
              "1  When I put this movie in my DVD player, and sa...      0\n",
              "2  Why do people who do not know what a particula...      0\n",
              "3  Even though I have great interest in Biblical ...      0\n",
              "4  Im a die hard Dads Army fan and nothing will e...      1"
            ]
          },
          "execution_count": 4,
          "metadata": {},
          "output_type": "execute_result"
        }
      ],
      "source": [
        "data.head()"
      ]
    },
    {
      "cell_type": "code",
      "execution_count": 5,
      "id": "0a78c879",
      "metadata": {
        "colab": {
          "base_uri": "https://localhost:8080/",
          "height": 206
        },
        "id": "0a78c879",
        "outputId": "ef91fd86-7a39-4e96-f7eb-7fe2f1bcb7f0"
      },
      "outputs": [
        {
          "data": {
            "text/html": [
              "<div>\n",
              "<style scoped>\n",
              "    .dataframe tbody tr th:only-of-type {\n",
              "        vertical-align: middle;\n",
              "    }\n",
              "\n",
              "    .dataframe tbody tr th {\n",
              "        vertical-align: top;\n",
              "    }\n",
              "\n",
              "    .dataframe thead th {\n",
              "        text-align: right;\n",
              "    }\n",
              "</style>\n",
              "<table border=\"1\" class=\"dataframe\">\n",
              "  <thead>\n",
              "    <tr style=\"text-align: right;\">\n",
              "      <th></th>\n",
              "      <th>text</th>\n",
              "      <th>label</th>\n",
              "    </tr>\n",
              "  </thead>\n",
              "  <tbody>\n",
              "    <tr>\n",
              "      <th>0</th>\n",
              "      <td>I grew up (b. 1965) watching and loving the Th...</td>\n",
              "      <td>0</td>\n",
              "    </tr>\n",
              "    <tr>\n",
              "      <th>1</th>\n",
              "      <td>When I put this movie in my DVD player, and sa...</td>\n",
              "      <td>0</td>\n",
              "    </tr>\n",
              "    <tr>\n",
              "      <th>2</th>\n",
              "      <td>Why do people who do not know what a particula...</td>\n",
              "      <td>0</td>\n",
              "    </tr>\n",
              "    <tr>\n",
              "      <th>3</th>\n",
              "      <td>Even though I have great interest in Biblical ...</td>\n",
              "      <td>0</td>\n",
              "    </tr>\n",
              "    <tr>\n",
              "      <th>4</th>\n",
              "      <td>Im a die hard Dads Army fan and nothing will e...</td>\n",
              "      <td>1</td>\n",
              "    </tr>\n",
              "  </tbody>\n",
              "</table>\n",
              "</div>"
            ],
            "text/plain": [
              "                                                text  label\n",
              "0  I grew up (b. 1965) watching and loving the Th...      0\n",
              "1  When I put this movie in my DVD player, and sa...      0\n",
              "2  Why do people who do not know what a particula...      0\n",
              "3  Even though I have great interest in Biblical ...      0\n",
              "4  Im a die hard Dads Army fan and nothing will e...      1"
            ]
          },
          "execution_count": 5,
          "metadata": {},
          "output_type": "execute_result"
        }
      ],
      "source": [
        "data=data[:5000]\n",
        "data.head()"
      ]
    },
    {
      "cell_type": "code",
      "execution_count": 6,
      "id": "22ff1a65",
      "metadata": {
        "id": "22ff1a65"
      },
      "outputs": [],
      "source": [
        "column_name=['Review','Sentiment']\n",
        "data.columns=column_name"
      ]
    },
    {
      "cell_type": "code",
      "execution_count": 7,
      "id": "6f7742cd",
      "metadata": {
        "colab": {
          "base_uri": "https://localhost:8080/",
          "height": 206
        },
        "id": "6f7742cd",
        "outputId": "c920de85-0e64-4e5d-d913-33345f65c629"
      },
      "outputs": [
        {
          "data": {
            "text/html": [
              "<div>\n",
              "<style scoped>\n",
              "    .dataframe tbody tr th:only-of-type {\n",
              "        vertical-align: middle;\n",
              "    }\n",
              "\n",
              "    .dataframe tbody tr th {\n",
              "        vertical-align: top;\n",
              "    }\n",
              "\n",
              "    .dataframe thead th {\n",
              "        text-align: right;\n",
              "    }\n",
              "</style>\n",
              "<table border=\"1\" class=\"dataframe\">\n",
              "  <thead>\n",
              "    <tr style=\"text-align: right;\">\n",
              "      <th></th>\n",
              "      <th>Review</th>\n",
              "      <th>Sentiment</th>\n",
              "    </tr>\n",
              "  </thead>\n",
              "  <tbody>\n",
              "    <tr>\n",
              "      <th>0</th>\n",
              "      <td>I grew up (b. 1965) watching and loving the Th...</td>\n",
              "      <td>0</td>\n",
              "    </tr>\n",
              "    <tr>\n",
              "      <th>1</th>\n",
              "      <td>When I put this movie in my DVD player, and sa...</td>\n",
              "      <td>0</td>\n",
              "    </tr>\n",
              "    <tr>\n",
              "      <th>2</th>\n",
              "      <td>Why do people who do not know what a particula...</td>\n",
              "      <td>0</td>\n",
              "    </tr>\n",
              "    <tr>\n",
              "      <th>3</th>\n",
              "      <td>Even though I have great interest in Biblical ...</td>\n",
              "      <td>0</td>\n",
              "    </tr>\n",
              "    <tr>\n",
              "      <th>4</th>\n",
              "      <td>Im a die hard Dads Army fan and nothing will e...</td>\n",
              "      <td>1</td>\n",
              "    </tr>\n",
              "  </tbody>\n",
              "</table>\n",
              "</div>"
            ],
            "text/plain": [
              "                                              Review  Sentiment\n",
              "0  I grew up (b. 1965) watching and loving the Th...          0\n",
              "1  When I put this movie in my DVD player, and sa...          0\n",
              "2  Why do people who do not know what a particula...          0\n",
              "3  Even though I have great interest in Biblical ...          0\n",
              "4  Im a die hard Dads Army fan and nothing will e...          1"
            ]
          },
          "execution_count": 7,
          "metadata": {},
          "output_type": "execute_result"
        }
      ],
      "source": [
        "data.head()"
      ]
    },
    {
      "cell_type": "code",
      "execution_count": 8,
      "id": "117eee98",
      "metadata": {
        "colab": {
          "base_uri": "https://localhost:8080/"
        },
        "id": "117eee98",
        "outputId": "903a0c5d-b046-482a-fb5d-656230cb00f6"
      },
      "outputs": [
        {
          "data": {
            "text/plain": [
              "0    2582\n",
              "1    2418\n",
              "Name: Sentiment, dtype: int64"
            ]
          },
          "execution_count": 8,
          "metadata": {},
          "output_type": "execute_result"
        }
      ],
      "source": [
        "data['Sentiment'].value_counts()"
      ]
    },
    {
      "cell_type": "code",
      "execution_count": 9,
      "id": "082ef567",
      "metadata": {},
      "outputs": [
        {
          "data": {
            "text/plain": [
              "<AxesSubplot:>"
            ]
          },
          "execution_count": 9,
          "metadata": {},
          "output_type": "execute_result"
        },
        {
          "data": {
            "image/png": "[encoded data removed]",
            "text/plain": [
              "<Figure size 432x288 with 1 Axes>"
            ]
          },
          "metadata": {
            "needs_background": "light"
          },
          "output_type": "display_data"
        }
      ],
      "source": [
        "data['Sentiment'].hist()"
      ]
    },
    {
      "cell_type": "code",
      "execution_count": 10,
      "id": "4294560a",
      "metadata": {
        "id": "4294560a"
      },
      "outputs": [],
      "source": [
        "x=data[\"Review\"]\n",
        "y=data[\"Sentiment\"]"
      ]
    },
    {
      "cell_type": "code",
      "execution_count": 11,
      "id": "fea22f6f",
      "metadata": {
        "id": "fea22f6f"
      },
      "outputs": [],
      "source": [
        "import string"
      ]
    },
    {
      "cell_type": "code",
      "execution_count": 12,
      "id": "54e33a5c",
      "metadata": {
        "id": "54e33a5c"
      },
      "outputs": [],
      "source": [
        "punc=string.punctuation"
      ]
    },
    {
      "cell_type": "code",
      "execution_count": 13,
      "id": "d7804387",
      "metadata": {
        "id": "d7804387"
      },
      "outputs": [],
      "source": [
        "from spacy.lang.en.stop_words import STOP_WORDS"
      ]
    },
    {
      "cell_type": "code",
      "execution_count": 14,
      "id": "eb942cb9",
      "metadata": {
        "id": "eb942cb9"
      },
      "outputs": [],
      "source": [
        "stopwords=list(STOP_WORDS)"
      ]
    },
    {
      "cell_type": "code",
      "execution_count": 15,
      "id": "50a09ef6",
      "metadata": {
        "id": "50a09ef6"
      },
      "outputs": [],
      "source": [
        "import spacy\n",
        "nlp = spacy.load('en_core_web_sm')\n",
        "\n",
        "def text_cleaner(sentence):\n",
        "    doc=nlp(sentence)\n",
        "    \n",
        "    tokens=[]\n",
        "    for token in doc:\n",
        "        if token.lemma_!=\"-PRON-\":\n",
        "            temp=token.lemma_.lower().strip()\n",
        "        else:\n",
        "            temp=token.lower_\n",
        "        tokens.append(temp)\n",
        "        \n",
        "    cleaned_tokens=[]\n",
        "    for token in tokens:\n",
        "        if token not in stopwords and token not in punc:\n",
        "            cleaned_tokens.append(token)\n",
        "    return cleaned_tokens\n",
        "    \n",
        "        "
      ]
    },
    {
      "cell_type": "code",
      "execution_count": 16,
      "id": "ec32c5eb",
      "metadata": {
        "id": "ec32c5eb"
      },
      "outputs": [],
      "source": [
        "from sklearn.svm import LinearSVC\n",
        "from sklearn.feature_extraction.text import TfidfVectorizer\n",
        "from sklearn.pipeline import Pipeline"
      ]
    },
    {
      "cell_type": "code",
      "execution_count": 17,
      "id": "46067ce0",
      "metadata": {
        "id": "46067ce0"
      },
      "outputs": [],
      "source": [
        "tfidf=TfidfVectorizer(tokenizer=text_cleaner)"
      ]
    },
    {
      "cell_type": "code",
      "execution_count": 33,
      "id": "bd3d1f90",
      "metadata": {
        "id": "bd3d1f90"
      },
      "outputs": [],
      "source": [
        "from xgboost import XGBClassifier\n",
        "clf=LinearSVC()"
      ]
    },
    {
      "cell_type": "code",
      "execution_count": 19,
      "id": "78e3281e",
      "metadata": {
        "id": "78e3281e"
      },
      "outputs": [],
      "source": [
        "from sklearn.model_selection import train_test_split"
      ]
    },
    {
      "cell_type": "markdown",
      "id": "cDpGtdPBBKnQ",
      "metadata": {
        "id": "cDpGtdPBBKnQ"
      },
      "source": []
    },
    {
      "cell_type": "code",
      "execution_count": 34,
      "id": "24f27b70",
      "metadata": {
        "id": "24f27b70"
      },
      "outputs": [],
      "source": [
        "x_train,x_test,y_train,y_test=train_test_split(x,y,test_size=0.3)"
      ]
    },
    {
      "cell_type": "code",
      "execution_count": 35,
      "id": "a98795cc",
      "metadata": {
        "colab": {
          "base_uri": "https://localhost:8080/"
        },
        "id": "a98795cc",
        "outputId": "89abaada-c0a2-4243-f302-94c6d36cb384"
      },
      "outputs": [
        {
          "data": {
            "text/plain": [
              "(3500,)"
            ]
          },
          "execution_count": 35,
          "metadata": {},
          "output_type": "execute_result"
        }
      ],
      "source": [
        "x_train.shape"
      ]
    },
    {
      "cell_type": "code",
      "execution_count": 36,
      "id": "5c9a7189",
      "metadata": {
        "id": "5c9a7189"
      },
      "outputs": [],
      "source": [
        "clf=Pipeline([('tfidf',tfidf),('clf',clf)])"
      ]
    },
    {
      "cell_type": "code",
      "execution_count": 37,
      "id": "f5ef506b",
      "metadata": {
        "colab": {
          "base_uri": "https://localhost:8080/"
        },
        "id": "f5ef506b",
        "outputId": "b87ad5fc-85b3-4a2f-f4a9-b763f12bf4bc"
      },
      "outputs": [
        {
          "data": {
            "text/plain": [
              "Pipeline(steps=[('tfidf',\n",
              "                 TfidfVectorizer(tokenizer=<function text_cleaner at 0x000001926DADAB90>)),\n",
              "                ('clf', LinearSVC())])"
            ]
          },
          "execution_count": 37,
          "metadata": {},
          "output_type": "execute_result"
        }
      ],
      "source": [
        "\n",
        "clf.fit(x_train,y_train)\n"
      ]
    },
    {
      "cell_type": "code",
      "execution_count": 24,
      "id": "J_unIh_T_xta",
      "metadata": {
        "id": "J_unIh_T_xta"
      },
      "outputs": [],
      "source": [
        "import pickle\n",
        "filename = 'XBG.sav'\n",
        "pickle.dump(clf, open(filename, 'wb'))"
      ]
    },
    {
      "cell_type": "code",
      "execution_count": 25,
      "id": "9f521964",
      "metadata": {
        "id": "9f521964"
      },
      "outputs": [],
      "source": [
        "from sklearn.metrics import accuracy_score,classification_report,confusion_matrix"
      ]
    },
    {
      "cell_type": "code",
      "execution_count": 38,
      "id": "a88b5887",
      "metadata": {
        "id": "a88b5887"
      },
      "outputs": [],
      "source": [
        "y_pred=clf.predict(x_test)"
      ]
    },
    {
      "cell_type": "code",
      "execution_count": 39,
      "id": "7d576f21",
      "metadata": {
        "colab": {
          "base_uri": "https://localhost:8080/"
        },
        "id": "7d576f21",
        "outputId": "b315545c-cf34-49d6-ec13-8b21b0eb74fd"
      },
      "outputs": [
        {
          "data": {
            "text/plain": [
              "array([[657, 129],\n",
              "       [105, 609]], dtype=int64)"
            ]
          },
          "execution_count": 39,
          "metadata": {},
          "output_type": "execute_result"
        }
      ],
      "source": [
        "confusion_matrix(y_test,y_pred)"
      ]
    },
    {
      "cell_type": "code",
      "execution_count": 28,
      "id": "a6cdfd16",
      "metadata": {
        "colab": {
          "base_uri": "https://localhost:8080/"
        },
        "id": "a6cdfd16",
        "outputId": "e9f4f078-e343-4f7e-8018-30008b19b51b"
      },
      "outputs": [
        {
          "name": "stdout",
          "output_type": "stream",
          "text": [
            "              precision    recall  f1-score   support\n",
            "\n",
            "           0       0.81      0.83      0.82       772\n",
            "           1       0.82      0.80      0.81       728\n",
            "\n",
            "    accuracy                           0.82      1500\n",
            "   macro avg       0.82      0.81      0.82      1500\n",
            "weighted avg       0.82      0.82      0.82      1500\n",
            "\n"
          ]
        }
      ],
      "source": [
        "print(classification_report(y_test,y_pred))"
      ]
    },
    {
      "cell_type": "code",
      "execution_count": 29,
      "id": "7e6bb39e",
      "metadata": {
        "colab": {
          "base_uri": "https://localhost:8080/"
        },
        "id": "7e6bb39e",
        "outputId": "1bf81b6c-7a72-40cc-e5c2-2649d2c6e1b2"
      },
      "outputs": [
        {
          "data": {
            "text/plain": [
              "0.8153333333333334"
            ]
          },
          "execution_count": 29,
          "metadata": {},
          "output_type": "execute_result"
        }
      ],
      "source": [
        "accuracy_score(y_test,y_pred)"
      ]
    },
    {
      "cell_type": "code",
      "execution_count": 30,
      "id": "ab384667",
      "metadata": {
        "colab": {
          "base_uri": "https://localhost:8080/"
        },
        "id": "ab384667",
        "outputId": "32914035-ba22-491d-93ca-225a955bbb10"
      },
      "outputs": [
        {
          "data": {
            "text/plain": [
              "0.8153333333333334"
            ]
          },
          "execution_count": 30,
          "metadata": {},
          "output_type": "execute_result"
        }
      ],
      "source": [
        "clf.score(x_test,y_test)"
      ]
    },
    {
      "cell_type": "code",
      "execution_count": 31,
      "id": "95dd7802",
      "metadata": {
        "id": "95dd7802"
      },
      "outputs": [],
      "source": [
        "from sklearn.metrics import plot_confusion_matrix\n",
        "import matplotlib.pyplot as plt\n"
      ]
    },
    {
      "cell_type": "code",
      "execution_count": 32,
      "id": "470fc706",
      "metadata": {
        "colab": {
          "base_uri": "https://localhost:8080/",
          "height": 351
        },
        "id": "470fc706",
        "outputId": "c1fadafb-226e-4a28-a94f-c3d7764cbe15"
      },
      "outputs": [
        {
          "name": "stderr",
          "output_type": "stream",
          "text": [
            "c:\\Users\\Badmen\\AppData\\Local\\Programs\\Python\\Python310\\lib\\site-packages\\sklearn\\utils\\deprecation.py:87: FutureWarning: Function plot_confusion_matrix is deprecated; Function `plot_confusion_matrix` is deprecated in 1.0 and will be removed in 1.2. Use one of the class methods: ConfusionMatrixDisplay.from_predictions or ConfusionMatrixDisplay.from_estimator.\n",
            "  warnings.warn(msg, category=FutureWarning)\n"
          ]
        },
        {
          "data": {
            "text/plain": [
              "<sklearn.metrics._plot.confusion_matrix.ConfusionMatrixDisplay at 0x19271768df0>"
            ]
          },
          "execution_count": 32,
          "metadata": {},
          "output_type": "execute_result"
        },
        {
          "data": {
            "image/png": "[encoded data removed]",
            "text/plain": [
              "<Figure size 432x288 with 2 Axes>"
            ]
          },
          "metadata": {
            "needs_background": "light"
          },
          "output_type": "display_data"
        }
      ],
      "source": [
        "plot_confusion_matrix(clf,x_test,y_test,cmap=plt.cm.Blues)"
      ]
    }
  ],
  "metadata": {
    "accelerator": "GPU",
    "colab": {
      "name": "sentiment analysis-checkpoint.ipynb",
      "provenance": []
    },
    "gpuClass": "standard",
    "kernelspec": {
      "display_name": "Python 3.10.4 64-bit",
      "language": "python",
      "name": "python3"
    },
    "language_info": {
      "codemirror_mode": {
        "name": "ipython",
        "version": 3
      },
      "file_extension": ".py",
      "mimetype": "text/x-python",
      "name": "python",
      "nbconvert_exporter": "python",
      "pygments_lexer": "ipython3",
      "version": "3.10.4"
    },
    "vscode": {
      "interpreter": {
        "hash": "7861399a6689b50f6a5602581f84f36937b312cc846cafa3ddada206e53d90fe"
      }
    }
  },
  "nbformat": 4,
  "nbformat_minor": 5
}
